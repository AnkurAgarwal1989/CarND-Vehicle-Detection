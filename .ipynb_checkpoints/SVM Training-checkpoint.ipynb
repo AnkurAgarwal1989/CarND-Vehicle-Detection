{
 "cells": [
  {
   "cell_type": "code",
   "execution_count": 2,
   "metadata": {
    "collapsed": false
   },
   "outputs": [
    {
     "ename": "SyntaxError",
     "evalue": "invalid syntax (features.py, line 59)",
     "output_type": "error",
     "traceback": [
      "\u001b[1;36m  File \u001b[1;32m\"features.py\"\u001b[1;36m, line \u001b[1;32m59\u001b[0m\n\u001b[1;33m    if feature_vec = True:\u001b[0m\n\u001b[1;37m                   ^\u001b[0m\n\u001b[1;31mSyntaxError\u001b[0m\u001b[1;31m:\u001b[0m invalid syntax\n"
     ]
    }
   ],
   "source": [
    "import matplotlib.pyplot as plt\n",
    "import numpy as np\n",
    "import cv2\n",
    "import glob\n",
    "import time\n",
    "from features import extract_features\n",
    "from sklearn.cross_validation import train_test_split\n",
    "from sklearn.preprocessing import StandardScaler\n",
    "from train_SVM import train_LinearSVC\n",
    "import pickle"
   ]
  },
  {
   "cell_type": "code",
   "execution_count": 3,
   "metadata": {
    "collapsed": false
   },
   "outputs": [
    {
     "ename": "SyntaxError",
     "evalue": "invalid syntax (<ipython-input-3-4214bd4bb23c>, line 70)",
     "output_type": "error",
     "traceback": [
      "\u001b[1;36m  File \u001b[1;32m\"<ipython-input-3-4214bd4bb23c>\"\u001b[1;36m, line \u001b[1;32m70\u001b[0m\n\u001b[1;33m    pickle.\u001b[0m\n\u001b[1;37m           ^\u001b[0m\n\u001b[1;31mSyntaxError\u001b[0m\u001b[1;31m:\u001b[0m invalid syntax\n"
     ]
    }
   ],
   "source": [
    "# Divide up into cars and notcars\n",
    "vehicle_image_dir = 'vehicles/*/*.png'\n",
    "nonvehicle_image_dir = 'non-vehicles/*/*.png'\n",
    "cars = []\n",
    "notcars = []\n",
    "\n",
    "images = glob.glob(vehicle_image_dir)\n",
    "for image in images:\n",
    "    cars.append(image)\n",
    "    \n",
    "images = glob.glob(nonvehicle_image_dir)\n",
    "for image in images:\n",
    "    notcars.append(image)\n",
    "    \n",
    "\n",
    "h_colorspace = 'YUV' # Can be RGB, HSV, LUV, HLS, YUV, YCrCb\n",
    "s_colorspace = 'HSV' # Can be RGB, HSV, LUV, HLS, YUV, YCrCb\n",
    "orient = 9\n",
    "pix_per_cell = 8\n",
    "cell_per_block = 2\n",
    "hog_channel = 'ALL' # Can be 0, 1, 2, or \"ALL\"\n",
    "\n",
    "t=time.time()\n",
    "car_features = extract_features(cars, h_cspace=h_colorspace, s_cspace=s_colorspace, orient=orient, \n",
    "                        pix_per_cell=pix_per_cell, cell_per_block=cell_per_block, \n",
    "                        hog_channel=hog_channel)\n",
    "notcar_features = extract_features(notcars, h_cspace=h_colorspace, s_cspace=s_colorspace, orient=orient, \n",
    "                        pix_per_cell=pix_per_cell, cell_per_block=cell_per_block, \n",
    "                        hog_channel=hog_channel)\n",
    "t2 = time.time()\n",
    "print(round(t2-t, 2), 'Seconds to extract HOG features...')\n",
    "\n",
    "# Create an array stack of feature vectors\n",
    "X = np.vstack((car_features, notcar_features)).astype(np.float64)                        \n",
    "# Fit a per-column scaler\n",
    "X_scaler = StandardScaler().fit(X)\n",
    "# Apply the scaler to X\n",
    "scaled_X = X_scaler.transform(X)\n",
    "\n",
    "# Define the labels vector\n",
    "y = np.hstack((np.ones(len(car_features)), np.zeros(len(notcar_features))))\n",
    "\n",
    "# Split up data into randomized training and test sets\n",
    "rand_state = np.random.randint(0, 100)\n",
    "X_train, X_val, y_train, y_val = train_test_split(\n",
    "    scaled_X, y, test_size=0.2, random_state=rand_state)\n",
    "\n",
    "print('Using:',orient,'orientations',pix_per_cell,\n",
    "    'pixels per cell and', cell_per_block,'cells per block')\n",
    "print('Feature vector length:', len(X_train[0]))\n",
    "\n",
    "Lin_clf = train_LinearSVC(X_train, y_train, X_val, y_val)\n",
    "\n",
    "#Save the trained SVM and the parameters and configs\n",
    "color_spatial_size = 32\n",
    "svc_dict = {}\n",
    "svc_dict[\"svc\"] = Lin_clf\n",
    "svc_dict[\"scaler\"] = X_scaler\n",
    "svc_dict[\"orientations\"] = orient\n",
    "svc_dict[\"pix_per_cell\"] = pix_per_cell\n",
    "svc_dict[\"cell_per_block\"] = cell_per_block\n",
    "svc_dict[\"color_spatial_size\"] = color_spatial_size\n",
    "svc_dict[\"h_colorspace\"] = h_colorspace\n",
    "svc_dict[\"s_colorspace\"] = s_colorspace\n",
    "with open('Car_NoCar_LinearSVC.p', 'w') as f:\n",
    "    pickle.dump(svc_dict, f)\n",
    "\n",
    "#To load the trained classifier:\n",
    "with open('Car_NoCar_LinearSVC.p', 'r') as f:\n",
    "    svc_dict = pickle.load(f)\n",
    "    print(svc_dict[\"svc\"])"
   ]
  },
  {
   "cell_type": "code",
   "execution_count": null,
   "metadata": {
    "collapsed": true
   },
   "outputs": [],
   "source": []
  }
 ],
 "metadata": {
  "anaconda-cloud": {},
  "kernelspec": {
   "display_name": "Python [Root]",
   "language": "python",
   "name": "Python [Root]"
  },
  "language_info": {
   "codemirror_mode": {
    "name": "ipython",
    "version": 2
   },
   "file_extension": ".py",
   "mimetype": "text/x-python",
   "name": "python",
   "nbconvert_exporter": "python",
   "pygments_lexer": "ipython2",
   "version": "2.7.12"
  }
 },
 "nbformat": 4,
 "nbformat_minor": 0
}
